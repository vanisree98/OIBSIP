{
 "cells": [
  {
   "cell_type": "markdown",
   "id": "a05664d7",
   "metadata": {},
   "source": [
    "# IRIS FLOWER CLASSIFICATION"
   ]
  },
  {
   "cell_type": "markdown",
   "id": "0b2bf32b",
   "metadata": {},
   "source": [
    "## 1. Dataset loading"
   ]
  },
  {
   "cell_type": "code",
   "execution_count": 1,
   "id": "9b74cbdb",
   "metadata": {},
   "outputs": [],
   "source": [
    "import pandas as pd\n",
    "import numpy as np\n",
    "import matplotlib.pyplot as plt\n",
    "import seaborn as sns\n",
    "import warnings\n",
    "warnings.filterwarnings('ignore')"
   ]
  },
  {
   "cell_type": "code",
   "execution_count": 2,
   "id": "c7a28637",
   "metadata": {},
   "outputs": [],
   "source": [
    "df=pd.read_csv(r'https://raw.githubusercontent.com/amankharwal/Website-data/master/IRIS.csv')"
   ]
  },
  {
   "cell_type": "code",
   "execution_count": 3,
   "id": "b24d8857",
   "metadata": {},
   "outputs": [
    {
     "data": {
      "text/html": [
       "<div>\n",
       "<style scoped>\n",
       "    .dataframe tbody tr th:only-of-type {\n",
       "        vertical-align: middle;\n",
       "    }\n",
       "\n",
       "    .dataframe tbody tr th {\n",
       "        vertical-align: top;\n",
       "    }\n",
       "\n",
       "    .dataframe thead th {\n",
       "        text-align: right;\n",
       "    }\n",
       "</style>\n",
       "<table border=\"1\" class=\"dataframe\">\n",
       "  <thead>\n",
       "    <tr style=\"text-align: right;\">\n",
       "      <th></th>\n",
       "      <th>sepal_length</th>\n",
       "      <th>sepal_width</th>\n",
       "      <th>petal_length</th>\n",
       "      <th>petal_width</th>\n",
       "      <th>species</th>\n",
       "    </tr>\n",
       "  </thead>\n",
       "  <tbody>\n",
       "    <tr>\n",
       "      <th>0</th>\n",
       "      <td>5.1</td>\n",
       "      <td>3.5</td>\n",
       "      <td>1.4</td>\n",
       "      <td>0.2</td>\n",
       "      <td>Iris-setosa</td>\n",
       "    </tr>\n",
       "    <tr>\n",
       "      <th>1</th>\n",
       "      <td>4.9</td>\n",
       "      <td>3.0</td>\n",
       "      <td>1.4</td>\n",
       "      <td>0.2</td>\n",
       "      <td>Iris-setosa</td>\n",
       "    </tr>\n",
       "    <tr>\n",
       "      <th>2</th>\n",
       "      <td>4.7</td>\n",
       "      <td>3.2</td>\n",
       "      <td>1.3</td>\n",
       "      <td>0.2</td>\n",
       "      <td>Iris-setosa</td>\n",
       "    </tr>\n",
       "    <tr>\n",
       "      <th>3</th>\n",
       "      <td>4.6</td>\n",
       "      <td>3.1</td>\n",
       "      <td>1.5</td>\n",
       "      <td>0.2</td>\n",
       "      <td>Iris-setosa</td>\n",
       "    </tr>\n",
       "    <tr>\n",
       "      <th>4</th>\n",
       "      <td>5.0</td>\n",
       "      <td>3.6</td>\n",
       "      <td>1.4</td>\n",
       "      <td>0.2</td>\n",
       "      <td>Iris-setosa</td>\n",
       "    </tr>\n",
       "    <tr>\n",
       "      <th>...</th>\n",
       "      <td>...</td>\n",
       "      <td>...</td>\n",
       "      <td>...</td>\n",
       "      <td>...</td>\n",
       "      <td>...</td>\n",
       "    </tr>\n",
       "    <tr>\n",
       "      <th>145</th>\n",
       "      <td>6.7</td>\n",
       "      <td>3.0</td>\n",
       "      <td>5.2</td>\n",
       "      <td>2.3</td>\n",
       "      <td>Iris-virginica</td>\n",
       "    </tr>\n",
       "    <tr>\n",
       "      <th>146</th>\n",
       "      <td>6.3</td>\n",
       "      <td>2.5</td>\n",
       "      <td>5.0</td>\n",
       "      <td>1.9</td>\n",
       "      <td>Iris-virginica</td>\n",
       "    </tr>\n",
       "    <tr>\n",
       "      <th>147</th>\n",
       "      <td>6.5</td>\n",
       "      <td>3.0</td>\n",
       "      <td>5.2</td>\n",
       "      <td>2.0</td>\n",
       "      <td>Iris-virginica</td>\n",
       "    </tr>\n",
       "    <tr>\n",
       "      <th>148</th>\n",
       "      <td>6.2</td>\n",
       "      <td>3.4</td>\n",
       "      <td>5.4</td>\n",
       "      <td>2.3</td>\n",
       "      <td>Iris-virginica</td>\n",
       "    </tr>\n",
       "    <tr>\n",
       "      <th>149</th>\n",
       "      <td>5.9</td>\n",
       "      <td>3.0</td>\n",
       "      <td>5.1</td>\n",
       "      <td>1.8</td>\n",
       "      <td>Iris-virginica</td>\n",
       "    </tr>\n",
       "  </tbody>\n",
       "</table>\n",
       "<p>150 rows × 5 columns</p>\n",
       "</div>"
      ],
      "text/plain": [
       "     sepal_length  sepal_width  petal_length  petal_width         species\n",
       "0             5.1          3.5           1.4          0.2     Iris-setosa\n",
       "1             4.9          3.0           1.4          0.2     Iris-setosa\n",
       "2             4.7          3.2           1.3          0.2     Iris-setosa\n",
       "3             4.6          3.1           1.5          0.2     Iris-setosa\n",
       "4             5.0          3.6           1.4          0.2     Iris-setosa\n",
       "..            ...          ...           ...          ...             ...\n",
       "145           6.7          3.0           5.2          2.3  Iris-virginica\n",
       "146           6.3          2.5           5.0          1.9  Iris-virginica\n",
       "147           6.5          3.0           5.2          2.0  Iris-virginica\n",
       "148           6.2          3.4           5.4          2.3  Iris-virginica\n",
       "149           5.9          3.0           5.1          1.8  Iris-virginica\n",
       "\n",
       "[150 rows x 5 columns]"
      ]
     },
     "execution_count": 3,
     "metadata": {},
     "output_type": "execute_result"
    }
   ],
   "source": [
    "df"
   ]
  },
  {
   "cell_type": "code",
   "execution_count": 4,
   "id": "ed3b8d0a",
   "metadata": {},
   "outputs": [
    {
     "data": {
      "text/plain": [
       "Index(['sepal_length', 'sepal_width', 'petal_length', 'petal_width',\n",
       "       'species'],\n",
       "      dtype='object')"
      ]
     },
     "execution_count": 4,
     "metadata": {},
     "output_type": "execute_result"
    }
   ],
   "source": [
    "df.columns"
   ]
  },
  {
   "cell_type": "markdown",
   "id": "90f8f5d5",
   "metadata": {},
   "source": [
    "About columns:\n",
    "\n",
    "1. sepal length in cm\n",
    "2. sepal width in cm\n",
    "3. petal length in cm\n",
    "4. petal width in cm\n",
    "5. class:\n",
    "-- Iris Setosa\n",
    "\n",
    "-- Iris Versicolour\n",
    "\n",
    "-- Iris Virginica"
   ]
  },
  {
   "cell_type": "code",
   "execution_count": 5,
   "id": "4d8708ba",
   "metadata": {},
   "outputs": [
    {
     "data": {
      "text/plain": [
       "(150, 5)"
      ]
     },
     "execution_count": 5,
     "metadata": {},
     "output_type": "execute_result"
    }
   ],
   "source": [
    "\n",
    "df.shape"
   ]
  },
  {
   "cell_type": "code",
   "execution_count": 6,
   "id": "5e3db6c2",
   "metadata": {},
   "outputs": [
    {
     "data": {
      "text/plain": [
       "sepal_length    0\n",
       "sepal_width     0\n",
       "petal_length    0\n",
       "petal_width     0\n",
       "species         0\n",
       "dtype: int64"
      ]
     },
     "execution_count": 6,
     "metadata": {},
     "output_type": "execute_result"
    }
   ],
   "source": [
    "df.isnull().sum()"
   ]
  },
  {
   "cell_type": "markdown",
   "id": "5104f081",
   "metadata": {},
   "source": [
    "INFERENCE: Dataset doesn't have any null value"
   ]
  },
  {
   "cell_type": "code",
   "execution_count": 7,
   "id": "e7a51608",
   "metadata": {},
   "outputs": [
    {
     "data": {
      "text/plain": [
       "<AxesSubplot:>"
      ]
     },
     "execution_count": 7,
     "metadata": {},
     "output_type": "execute_result"
    },
    {
     "data": {
      "image/png": "[encoded data removed]",
      "text/plain": [
       "<Figure size 432x288 with 2 Axes>"
      ]
     },
     "metadata": {
      "needs_background": "light"
     },
     "output_type": "display_data"
    }
   ],
   "source": [
    "import seaborn as sns\n",
    "sns.heatmap(df.isnull())"
   ]
  },
  {
   "cell_type": "code",
   "execution_count": 8,
   "id": "2a86cc45",
   "metadata": {},
   "outputs": [
    {
     "name": "stdout",
     "output_type": "stream",
     "text": [
      "<class 'pandas.core.frame.DataFrame'>\n",
      "RangeIndex: 150 entries, 0 to 149\n",
      "Data columns (total 5 columns):\n",
      " #   Column        Non-Null Count  Dtype  \n",
      "---  ------        --------------  -----  \n",
      " 0   sepal_length  150 non-null    float64\n",
      " 1   sepal_width   150 non-null    float64\n",
      " 2   petal_length  150 non-null    float64\n",
      " 3   petal_width   150 non-null    float64\n",
      " 4   species       150 non-null    object \n",
      "dtypes: float64(4), object(1)\n",
      "memory usage: 6.0+ KB\n"
     ]
    }
   ],
   "source": [
    "#the complete information about the dataset\n",
    "df.info()"
   ]
  },
  {
   "cell_type": "code",
   "execution_count": 9,
   "id": "4003d15f",
   "metadata": {},
   "outputs": [
    {
     "data": {
      "text/html": [
       "<div>\n",
       "<style scoped>\n",
       "    .dataframe tbody tr th:only-of-type {\n",
       "        vertical-align: middle;\n",
       "    }\n",
       "\n",
       "    .dataframe tbody tr th {\n",
       "        vertical-align: top;\n",
       "    }\n",
       "\n",
       "    .dataframe thead th {\n",
       "        text-align: right;\n",
       "    }\n",
       "</style>\n",
       "<table border=\"1\" class=\"dataframe\">\n",
       "  <thead>\n",
       "    <tr style=\"text-align: right;\">\n",
       "      <th></th>\n",
       "      <th>sepal_length</th>\n",
       "      <th>sepal_width</th>\n",
       "      <th>petal_length</th>\n",
       "      <th>petal_width</th>\n",
       "    </tr>\n",
       "  </thead>\n",
       "  <tbody>\n",
       "    <tr>\n",
       "      <th>count</th>\n",
       "      <td>150.000000</td>\n",
       "      <td>150.000000</td>\n",
       "      <td>150.000000</td>\n",
       "      <td>150.000000</td>\n",
       "    </tr>\n",
       "    <tr>\n",
       "      <th>mean</th>\n",
       "      <td>5.843333</td>\n",
       "      <td>3.054000</td>\n",
       "      <td>3.758667</td>\n",
       "      <td>1.198667</td>\n",
       "    </tr>\n",
       "    <tr>\n",
       "      <th>std</th>\n",
       "      <td>0.828066</td>\n",
       "      <td>0.433594</td>\n",
       "      <td>1.764420</td>\n",
       "      <td>0.763161</td>\n",
       "    </tr>\n",
       "    <tr>\n",
       "      <th>min</th>\n",
       "      <td>4.300000</td>\n",
       "      <td>2.000000</td>\n",
       "      <td>1.000000</td>\n",
       "      <td>0.100000</td>\n",
       "    </tr>\n",
       "    <tr>\n",
       "      <th>25%</th>\n",
       "      <td>5.100000</td>\n",
       "      <td>2.800000</td>\n",
       "      <td>1.600000</td>\n",
       "      <td>0.300000</td>\n",
       "    </tr>\n",
       "    <tr>\n",
       "      <th>50%</th>\n",
       "      <td>5.800000</td>\n",
       "      <td>3.000000</td>\n",
       "      <td>4.350000</td>\n",
       "      <td>1.300000</td>\n",
       "    </tr>\n",
       "    <tr>\n",
       "      <th>75%</th>\n",
       "      <td>6.400000</td>\n",
       "      <td>3.300000</td>\n",
       "      <td>5.100000</td>\n",
       "      <td>1.800000</td>\n",
       "    </tr>\n",
       "    <tr>\n",
       "      <th>max</th>\n",
       "      <td>7.900000</td>\n",
       "      <td>4.400000</td>\n",
       "      <td>6.900000</td>\n",
       "      <td>2.500000</td>\n",
       "    </tr>\n",
       "  </tbody>\n",
       "</table>\n",
       "</div>"
      ],
      "text/plain": [
       "       sepal_length  sepal_width  petal_length  petal_width\n",
       "count    150.000000   150.000000    150.000000   150.000000\n",
       "mean       5.843333     3.054000      3.758667     1.198667\n",
       "std        0.828066     0.433594      1.764420     0.763161\n",
       "min        4.300000     2.000000      1.000000     0.100000\n",
       "25%        5.100000     2.800000      1.600000     0.300000\n",
       "50%        5.800000     3.000000      4.350000     1.300000\n",
       "75%        6.400000     3.300000      5.100000     1.800000\n",
       "max        7.900000     4.400000      6.900000     2.500000"
      ]
     },
     "execution_count": 9,
     "metadata": {},
     "output_type": "execute_result"
    }
   ],
   "source": [
    "df.describe()"
   ]
  },
  {
   "cell_type": "markdown",
   "id": "959743d3",
   "metadata": {},
   "source": [
    "## 2.Exploratory Data Analysis"
   ]
  },
  {
   "cell_type": "code",
   "execution_count": 10,
   "id": "68db6800",
   "metadata": {},
   "outputs": [
    {
     "name": "stdout",
     "output_type": "stream",
     "text": [
      "Iris-versicolor    50\n",
      "Iris-virginica     50\n",
      "Iris-setosa        50\n",
      "Name: species, dtype: int64\n"
     ]
    }
   ],
   "source": [
    " print(df['species'].value_counts())"
   ]
  },
  {
   "cell_type": "code",
   "execution_count": 11,
   "id": "0f30f56b",
   "metadata": {},
   "outputs": [
    {
     "data": {
      "image/png": "[encoded data removed]",
      "text/plain": [
       "<Figure size 720x432 with 1 Axes>"
      ]
     },
     "metadata": {
      "needs_background": "light"
     },
     "output_type": "display_data"
    },
    {
     "data": {
      "image/png": "[encoded data removed]",
      "text/plain": [
       "<Figure size 720x432 with 1 Axes>"
      ]
     },
     "metadata": {
      "needs_background": "light"
     },
     "output_type": "display_data"
    }
   ],
   "source": [
    "\n",
    "fig = plt.figure(figsize = (10,6))\n",
    "sns.barplot(df['species'],df['sepal_length'], data = df)\n",
    "plt.title('relation of sepal_length with species')\n",
    "plt.xlabel('species')\n",
    "plt.ylabel('sepal_length')\n",
    "plt.show()\n",
    "fig = plt.figure(figsize = (10,6))\n",
    "sns.barplot(df['species'],df['sepal_width'], data = df)\n",
    "plt.title('relation of sepal_width with species')\n",
    "plt.xlabel('species')\n",
    "plt.ylabel('sepal_width')\n",
    "plt.show()\n",
    "\n"
   ]
  },
  {
   "cell_type": "code",
   "execution_count": 12,
   "id": "e4191b6a",
   "metadata": {},
   "outputs": [
    {
     "data": {
      "image/png": "[encoded data removed]",
      "text/plain": [
       "<Figure size 720x432 with 1 Axes>"
      ]
     },
     "metadata": {
      "needs_background": "light"
     },
     "output_type": "display_data"
    },
    {
     "data": {
      "image/png": "[encoded data removed]",
      "text/plain": [
       "<Figure size 720x432 with 1 Axes>"
      ]
     },
     "metadata": {
      "needs_background": "light"
     },
     "output_type": "display_data"
    }
   ],
   "source": [
    "\n",
    "fig = plt.figure(figsize = (10,6))\n",
    "sns.barplot(df['species'],df['petal_length'], data = df)\n",
    "plt.title('relation of petal_length with species')\n",
    "plt.xlabel('species')\n",
    "plt.ylabel('petal_length')\n",
    "plt.show()\n",
    "fig = plt.figure(figsize = (10,6))\n",
    "sns.barplot(df['species'],df['petal_width'], data = df)\n",
    "plt.title('relation of petal_width with species')\n",
    "plt.xlabel('species')\n",
    "plt.ylabel('petal_width')\n",
    "plt.show()"
   ]
  },
  {
   "cell_type": "code",
   "execution_count": null,
   "id": "1fc8c203",
   "metadata": {},
   "outputs": [],
   "source": []
  },
  {
   "cell_type": "code",
   "execution_count": null,
   "id": "3dab8a34",
   "metadata": {},
   "outputs": [],
   "source": []
  },
  {
   "cell_type": "code",
   "execution_count": 13,
   "id": "bc214de9",
   "metadata": {},
   "outputs": [
    {
     "data": {
      "image/png": "[encoded data removed]",
      "text/plain": [
       "<Figure size 432x288 with 1 Axes>"
      ]
     },
     "metadata": {
      "needs_background": "light"
     },
     "output_type": "display_data"
    }
   ],
   "source": [
    "# checking the variation of sepal_length in the different species of Iris flower\n",
    "\n",
    "plt.scatter(df['species'], df['sepal_length'], color = 'green')\n",
    "plt.title('relation of sepal_length with species')\n",
    "plt.xlabel('species')\n",
    "plt.ylabel('sepal_length')\n",
    "plt.show()"
   ]
  },
  {
   "cell_type": "code",
   "execution_count": 14,
   "id": "6739cd7c",
   "metadata": {},
   "outputs": [
    {
     "data": {
      "image/png": "[encoded data removed]",
      "text/plain": [
       "<Figure size 432x288 with 1 Axes>"
      ]
     },
     "metadata": {
      "needs_background": "light"
     },
     "output_type": "display_data"
    }
   ],
   "source": [
    "# checking the variation of sepal_width in the different species of Iris flower\n",
    "\n",
    "plt.scatter(df['species'], df['sepal_width'], color = 'green')\n",
    "plt.title('relation of sepal_width with species')\n",
    "plt.xlabel('species')\n",
    "plt.ylabel('sepal_width')\n",
    "plt.show()"
   ]
  },
  {
   "cell_type": "code",
   "execution_count": 15,
   "id": "7f97a922",
   "metadata": {},
   "outputs": [
    {
     "data": {
      "image/png": "[encoded data removed]",
      "text/plain": [
       "<Figure size 432x288 with 1 Axes>"
      ]
     },
     "metadata": {
      "needs_background": "light"
     },
     "output_type": "display_data"
    }
   ],
   "source": [
    "# checking the variation of sepal_length in the different species of Iris flower\n",
    "\n",
    "plt.scatter(df['species'], df['petal_length'], color = 'green')\n",
    "plt.title('relation of petal_length with species')\n",
    "plt.xlabel('species')\n",
    "plt.ylabel('petal_length')\n",
    "plt.show()"
   ]
  },
  {
   "cell_type": "code",
   "execution_count": 16,
   "id": "1f3e0253",
   "metadata": {},
   "outputs": [
    {
     "data": {
      "image/png": "[encoded data removed]",
      "text/plain": [
       "<Figure size 432x288 with 1 Axes>"
      ]
     },
     "metadata": {
      "needs_background": "light"
     },
     "output_type": "display_data"
    }
   ],
   "source": [
    "# checking the variation of sepal_length in the different species of Iris flower\n",
    "\n",
    "plt.scatter(df['species'], df['petal_width'], color = 'green')\n",
    "plt.title('relation of petal_width with species')\n",
    "plt.xlabel('species')\n",
    "plt.ylabel('petal_width')\n",
    "plt.show()"
   ]
  },
  {
   "cell_type": "code",
   "execution_count": 17,
   "id": "1a2b7f9b",
   "metadata": {},
   "outputs": [
    {
     "data": {
      "text/plain": [
       "<seaborn.axisgrid.PairGrid at 0x1b98137eca0>"
      ]
     },
     "execution_count": 17,
     "metadata": {},
     "output_type": "execute_result"
    },
    {
     "data": {
      "image/png": "[encoded data removed]",
      "text/plain": [
       "<Figure size 823.25x720 with 20 Axes>"
      ]
     },
     "metadata": {
      "needs_background": "light"
     },
     "output_type": "display_data"
    }
   ],
   "source": [
    "sns.pairplot(df,hue = \"species\",palette= \"coolwarm\")"
   ]
  },
  {
   "cell_type": "code",
   "execution_count": 18,
   "id": "c689c924",
   "metadata": {},
   "outputs": [
    {
     "data": {
      "image/png": "[encoded data removed]",
      "text/plain": [
       "<Figure size 432x288 with 1 Axes>"
      ]
     },
     "metadata": {
      "needs_background": "light"
     },
     "output_type": "display_data"
    },
    {
     "data": {
      "image/png": "[encoded data removed]",
      "text/plain": [
       "<Figure size 432x288 with 1 Axes>"
      ]
     },
     "metadata": {
      "needs_background": "light"
     },
     "output_type": "display_data"
    },
    {
     "data": {
      "image/png": "[encoded data removed]",
      "text/plain": [
       "<Figure size 432x288 with 1 Axes>"
      ]
     },
     "metadata": {
      "needs_background": "light"
     },
     "output_type": "display_data"
    },
    {
     "data": {
      "image/png": "[encoded data removed]",
      "text/plain": [
       "<Figure size 432x288 with 1 Axes>"
      ]
     },
     "metadata": {
      "needs_background": "light"
     },
     "output_type": "display_data"
    }
   ],
   "source": [
    "num=['sepal_length', 'sepal_width', 'petal_length', 'petal_width']\n",
    "     \n",
    "\n",
    "for i, col in enumerate(df[(num)]):\n",
    "    plt.figure(i)\n",
    "    sns.distplot(df[col])\n"
   ]
  },
  {
   "cell_type": "code",
   "execution_count": 19,
   "id": "9c1de44f",
   "metadata": {},
   "outputs": [
    {
     "data": {
      "image/png": "[encoded data removed]",
      "text/plain": [
       "<Figure size 432x288 with 1 Axes>"
      ]
     },
     "metadata": {
      "needs_background": "light"
     },
     "output_type": "display_data"
    },
    {
     "data": {
      "image/png": "[encoded data removed]",
      "text/plain": [
       "<Figure size 432x288 with 1 Axes>"
      ]
     },
     "metadata": {
      "needs_background": "light"
     },
     "output_type": "display_data"
    },
    {
     "data": {
      "image/png": "[encoded data removed]",
      "text/plain": [
       "<Figure size 432x288 with 1 Axes>"
      ]
     },
     "metadata": {
      "needs_background": "light"
     },
     "output_type": "display_data"
    },
    {
     "data": {
      "image/png": "[encoded data removed]",
      "text/plain": [
       "<Figure size 432x288 with 1 Axes>"
      ]
     },
     "metadata": {
      "needs_background": "light"
     },
     "output_type": "display_data"
    }
   ],
   "source": [
    "num=['sepal_length', 'sepal_width', 'petal_length', 'petal_width']\n",
    "     \n",
    "\n",
    "for i, col in enumerate(df[(num)]):\n",
    "    plt.figure(i)\n",
    "    sns.boxplot(df[col])"
   ]
  },
  {
   "cell_type": "markdown",
   "id": "aa1876e0",
   "metadata": {},
   "source": [
    "Inference:\n",
    "    \n",
    "    i)Sepal length,petal length,petal width doesn't have any outliers\n",
    "    \n",
    "    ii)Sepal_width have some outliers"
   ]
  },
  {
   "cell_type": "code",
   "execution_count": 20,
   "id": "c875cd79",
   "metadata": {},
   "outputs": [
    {
     "data": {
      "image/png": "[encoded data removed]",
      "text/plain": [
       "<Figure size 720x720 with 2 Axes>"
      ]
     },
     "metadata": {
      "needs_background": "light"
     },
     "output_type": "display_data"
    }
   ],
   "source": [
    "df_corr=df.apply(lambda x : pd.factorize(x)[0]).corr(method='pearson', min_periods=1,)\n",
    "plt.figure(figsize=(10,10))\n",
    "sns.heatmap(df_corr,annot=True,cmap='viridis')\n",
    "plt.show()\n",
    "     "
   ]
  },
  {
   "cell_type": "markdown",
   "id": "17a04634",
   "metadata": {},
   "source": [
    "From the above correlation plot for the given dataset for  prediction, we can easily see which items are related strongly with each other and which items are related weekly with each other. For Example,\n",
    "\n",
    "The strongly correlated items are : 1.Petal length and species. 2.Petal width and species. 3.sepal length and species.\n",
    "\n",
    "The weekly correlated items are : 1.sepal width and species. 2.sepal length and sepal width\n",
    "\n",
    "These are some relations which do not depend on each other at all."
   ]
  },
  {
   "cell_type": "markdown",
   "id": "f16b098c",
   "metadata": {},
   "source": [
    "## 3.Feature engineering"
   ]
  },
  {
   "cell_type": "markdown",
   "id": "3631d7cf",
   "metadata": {},
   "source": [
    "### skewness removal"
   ]
  },
  {
   "cell_type": "code",
   "execution_count": 21,
   "id": "6b8b5df2",
   "metadata": {},
   "outputs": [
    {
     "data": {
      "text/plain": [
       "sepal_length    0.314911\n",
       "sepal_width     0.334053\n",
       "petal_length   -0.274464\n",
       "petal_width    -0.104997\n",
       "dtype: float64"
      ]
     },
     "execution_count": 21,
     "metadata": {},
     "output_type": "execute_result"
    }
   ],
   "source": [
    "df.skew()"
   ]
  },
  {
   "cell_type": "markdown",
   "id": "853c3ce3",
   "metadata": {},
   "source": [
    "There is not much skewness present in the data."
   ]
  },
  {
   "cell_type": "markdown",
   "id": "7db62663",
   "metadata": {},
   "source": [
    "### Null Value removal"
   ]
  },
  {
   "cell_type": "code",
   "execution_count": 22,
   "id": "711295a3",
   "metadata": {},
   "outputs": [
    {
     "name": "stdout",
     "output_type": "stream",
     "text": [
      "sepal_length    0\n",
      "sepal_width     0\n",
      "petal_length    0\n",
      "petal_width     0\n",
      "species         0\n",
      "dtype: int64\n"
     ]
    }
   ],
   "source": [
    "print(df.isnull().sum())"
   ]
  },
  {
   "cell_type": "markdown",
   "id": "be8e2930",
   "metadata": {},
   "source": [
    "There is no null value present in the data."
   ]
  },
  {
   "cell_type": "markdown",
   "id": "891f897c",
   "metadata": {},
   "source": [
    "### Encoding"
   ]
  },
  {
   "cell_type": "code",
   "execution_count": 23,
   "id": "27e9d6f3",
   "metadata": {},
   "outputs": [],
   "source": [
    "from sklearn.preprocessing import LabelEncoder\n",
    "LE=LabelEncoder()"
   ]
  },
  {
   "cell_type": "code",
   "execution_count": 24,
   "id": "924d032e",
   "metadata": {},
   "outputs": [],
   "source": [
    "df['species']=LE.fit_transform(df['species'])\n",
    "     "
   ]
  },
  {
   "cell_type": "code",
   "execution_count": 25,
   "id": "fb9b8d23",
   "metadata": {},
   "outputs": [
    {
     "data": {
      "text/html": [
       "<div>\n",
       "<style scoped>\n",
       "    .dataframe tbody tr th:only-of-type {\n",
       "        vertical-align: middle;\n",
       "    }\n",
       "\n",
       "    .dataframe tbody tr th {\n",
       "        vertical-align: top;\n",
       "    }\n",
       "\n",
       "    .dataframe thead th {\n",
       "        text-align: right;\n",
       "    }\n",
       "</style>\n",
       "<table border=\"1\" class=\"dataframe\">\n",
       "  <thead>\n",
       "    <tr style=\"text-align: right;\">\n",
       "      <th></th>\n",
       "      <th>sepal_length</th>\n",
       "      <th>sepal_width</th>\n",
       "      <th>petal_length</th>\n",
       "      <th>petal_width</th>\n",
       "      <th>species</th>\n",
       "    </tr>\n",
       "  </thead>\n",
       "  <tbody>\n",
       "    <tr>\n",
       "      <th>0</th>\n",
       "      <td>5.1</td>\n",
       "      <td>3.5</td>\n",
       "      <td>1.4</td>\n",
       "      <td>0.2</td>\n",
       "      <td>0</td>\n",
       "    </tr>\n",
       "    <tr>\n",
       "      <th>1</th>\n",
       "      <td>4.9</td>\n",
       "      <td>3.0</td>\n",
       "      <td>1.4</td>\n",
       "      <td>0.2</td>\n",
       "      <td>0</td>\n",
       "    </tr>\n",
       "    <tr>\n",
       "      <th>2</th>\n",
       "      <td>4.7</td>\n",
       "      <td>3.2</td>\n",
       "      <td>1.3</td>\n",
       "      <td>0.2</td>\n",
       "      <td>0</td>\n",
       "    </tr>\n",
       "    <tr>\n",
       "      <th>3</th>\n",
       "      <td>4.6</td>\n",
       "      <td>3.1</td>\n",
       "      <td>1.5</td>\n",
       "      <td>0.2</td>\n",
       "      <td>0</td>\n",
       "    </tr>\n",
       "    <tr>\n",
       "      <th>4</th>\n",
       "      <td>5.0</td>\n",
       "      <td>3.6</td>\n",
       "      <td>1.4</td>\n",
       "      <td>0.2</td>\n",
       "      <td>0</td>\n",
       "    </tr>\n",
       "  </tbody>\n",
       "</table>\n",
       "</div>"
      ],
      "text/plain": [
       "   sepal_length  sepal_width  petal_length  petal_width  species\n",
       "0           5.1          3.5           1.4          0.2        0\n",
       "1           4.9          3.0           1.4          0.2        0\n",
       "2           4.7          3.2           1.3          0.2        0\n",
       "3           4.6          3.1           1.5          0.2        0\n",
       "4           5.0          3.6           1.4          0.2        0"
      ]
     },
     "execution_count": 25,
     "metadata": {},
     "output_type": "execute_result"
    }
   ],
   "source": [
    "\n",
    "df.head()"
   ]
  },
  {
   "cell_type": "code",
   "execution_count": 26,
   "id": "37bd1cbe",
   "metadata": {},
   "outputs": [
    {
     "name": "stdout",
     "output_type": "stream",
     "text": [
      "0    50\n",
      "1    50\n",
      "2    50\n",
      "Name: species, dtype: int64\n"
     ]
    }
   ],
   "source": [
    " print(df['species'].value_counts())"
   ]
  },
  {
   "cell_type": "markdown",
   "id": "088f0841",
   "metadata": {},
   "source": [
    "## 4.TEST TRAIN SPLIT"
   ]
  },
  {
   "cell_type": "code",
   "execution_count": 27,
   "id": "d0a0a929",
   "metadata": {},
   "outputs": [],
   "source": [
    "x= df.drop(columns='species')\n",
    "y= df['species']"
   ]
  },
  {
   "cell_type": "code",
   "execution_count": 28,
   "id": "d0d1d364",
   "metadata": {},
   "outputs": [
    {
     "data": {
      "text/plain": [
       "(150, 4)"
      ]
     },
     "execution_count": 28,
     "metadata": {},
     "output_type": "execute_result"
    }
   ],
   "source": [
    "x.shape\n",
    "     "
   ]
  },
  {
   "cell_type": "code",
   "execution_count": 29,
   "id": "1208fcc4",
   "metadata": {},
   "outputs": [
    {
     "data": {
      "text/plain": [
       "(150,)"
      ]
     },
     "execution_count": 29,
     "metadata": {},
     "output_type": "execute_result"
    }
   ],
   "source": [
    "y.shape\n",
    "     "
   ]
  },
  {
   "cell_type": "code",
   "execution_count": 30,
   "id": "26128820",
   "metadata": {},
   "outputs": [],
   "source": [
    "\n",
    "from sklearn.model_selection import train_test_split\n",
    "x_train, x_test, y_train, y_test = train_test_split(x,y,test_size=0.2,random_state=47)"
   ]
  },
  {
   "cell_type": "markdown",
   "id": "d9fb1481",
   "metadata": {},
   "source": [
    "#### Scaling using min max scaler"
   ]
  },
  {
   "cell_type": "code",
   "execution_count": 31,
   "id": "d2828c2b",
   "metadata": {},
   "outputs": [],
   "source": [
    "# data normalization with sklearn\n",
    "from sklearn.preprocessing import MinMaxScaler\n",
    "\n",
    "# fit scaler on training data\n",
    "norm = MinMaxScaler().fit(x_train)\n",
    "\n",
    "# transform training data\n",
    "x_train_norm = norm.transform(x_train)\n",
    "\n",
    "# transform testing dataabs\n",
    "x_test_norm = norm.transform(x_test)"
   ]
  },
  {
   "cell_type": "code",
   "execution_count": 32,
   "id": "ddf47c09",
   "metadata": {},
   "outputs": [],
   "source": [
    "x_test=pd.DataFrame(x_test_norm)\n",
    "x_train=pd.DataFrame(x_train_norm)"
   ]
  },
  {
   "cell_type": "markdown",
   "id": "aea37d83",
   "metadata": {},
   "source": [
    "## 5.Model construction"
   ]
  },
  {
   "cell_type": "code",
   "execution_count": 33,
   "id": "703222f7",
   "metadata": {},
   "outputs": [],
   "source": [
    "from sklearn.linear_model import LogisticRegression\n",
    "from sklearn.model_selection import cross_val_score\n",
    "from sklearn.tree import DecisionTreeClassifier\n",
    "from sklearn.neighbors import KNeighborsClassifier\n",
    "from sklearn.metrics  import mean_squared_error\n",
    "from sklearn.metrics  import accuracy_score\n",
    "from sklearn.metrics  import confusion_matrix,classification_report\n",
    "import warnings\n",
    "warnings.filterwarnings('ignore')"
   ]
  },
  {
   "cell_type": "markdown",
   "id": "34120293",
   "metadata": {},
   "source": [
    "### a)RandomForestClassifier"
   ]
  },
  {
   "cell_type": "code",
   "execution_count": 34,
   "id": "897e8a23",
   "metadata": {},
   "outputs": [
    {
     "name": "stdout",
     "output_type": "stream",
     "text": [
      "Training accuracy : 1.0\n",
      "testing accuracy : 0.9666666666666667\n",
      "              precision    recall  f1-score   support\n",
      "\n",
      "           0       1.00      1.00      1.00        11\n",
      "           1       0.88      1.00      0.93         7\n",
      "           2       1.00      0.92      0.96        12\n",
      "\n",
      "    accuracy                           0.97        30\n",
      "   macro avg       0.96      0.97      0.96        30\n",
      "weighted avg       0.97      0.97      0.97        30\n",
      "\n",
      "[[11  0  0]\n",
      " [ 0  7  0]\n",
      " [ 0  1 11]]\n",
      "accuracy_score : 0.9666666666666667\n"
     ]
    }
   ],
   "source": [
    "from sklearn.ensemble import RandomForestClassifier\n",
    "# creating the model\n",
    "model_rfc=RandomForestClassifier(n_estimators=400)\n",
    "# feeding the training set into the model\n",
    "model_rfc.fit(x_train,y_train)\n",
    "# predicting the results for the test set\n",
    "y_pred=model_rfc.predict(x_test)\n",
    "# calculating the training and testing accuracies\n",
    "print('Training accuracy :',model_rfc.score(x_train,y_train))\n",
    "print('testing accuracy :',model_rfc.score(x_test,y_test))\n",
    "# classification report\n",
    "print(classification_report(y_test,y_pred))\n",
    "#confusion matrix\n",
    "print(confusion_matrix(y_test,y_pred))\n",
    "print('accuracy_score :' ,accuracy_score(y_test,y_pred))\n"
   ]
  },
  {
   "cell_type": "markdown",
   "id": "ae0ea8de",
   "metadata": {},
   "source": [
    "#### cross validation score"
   ]
  },
  {
   "cell_type": "code",
   "execution_count": 35,
   "id": "a4cbefa8",
   "metadata": {},
   "outputs": [
    {
     "name": "stdout",
     "output_type": "stream",
     "text": [
      "cv score : 0.9666666666666666\n"
     ]
    }
   ],
   "source": [
    "from sklearn.model_selection import GridSearchCV, cross_val_score\n",
    "rfc_cv=cross_val_score(model_rfc,x,y,scoring='accuracy', cv = 10).mean()\n",
    "print('cv score :',rfc_cv)\n"
   ]
  },
  {
   "cell_type": "markdown",
   "id": "a6e2fb16",
   "metadata": {},
   "source": [
    "### b)SVC"
   ]
  },
  {
   "cell_type": "code",
   "execution_count": 36,
   "id": "4669f325",
   "metadata": {},
   "outputs": [
    {
     "name": "stdout",
     "output_type": "stream",
     "text": [
      "Training accuracy : 0.975\n",
      "Testing accuracy : 0.9666666666666667\n",
      "              precision    recall  f1-score   support\n",
      "\n",
      "           0       1.00      1.00      1.00        11\n",
      "           1       0.88      1.00      0.93         7\n",
      "           2       1.00      0.92      0.96        12\n",
      "\n",
      "    accuracy                           0.97        30\n",
      "   macro avg       0.96      0.97      0.96        30\n",
      "weighted avg       0.97      0.97      0.97        30\n",
      "\n",
      "[[11  0  0]\n",
      " [ 0  7  0]\n",
      " [ 0  1 11]]\n",
      "accuracy_score : 0.9666666666666667\n"
     ]
    }
   ],
   "source": [
    "from sklearn.svm import SVC\n",
    "# creating the model\n",
    "model_svc = SVC()\n",
    "# feeding the training set into the model\n",
    "model_svc.fit(x_train, y_train)\n",
    "\n",
    "# predicting the results for the test set\n",
    "y_pred = model_svc.predict(x_test)\n",
    "\n",
    "# calculating the training and testing accuracies\n",
    "print(\"Training accuracy :\", model_svc.score(x_train, y_train))\n",
    "print(\"Testing accuracy :\", model_svc.score(x_test, y_test))\n",
    "# classification report\n",
    "print(classification_report(y_test, y_pred))\n",
    "\n",
    "# confusion matrix\n",
    "print(confusion_matrix(y_test, y_pred))\n",
    "print('accuracy_score :' ,accuracy_score(y_test,y_pred))"
   ]
  },
  {
   "cell_type": "markdown",
   "id": "53fd048e",
   "metadata": {},
   "source": [
    "### cross validation score"
   ]
  },
  {
   "cell_type": "code",
   "execution_count": 37,
   "id": "7cb284cf",
   "metadata": {},
   "outputs": [
    {
     "name": "stdout",
     "output_type": "stream",
     "text": [
      "cv score : 0.9733333333333334\n"
     ]
    }
   ],
   "source": [
    "from sklearn.model_selection import GridSearchCV, cross_val_score\n",
    "svc_cv=cross_val_score(model_svc,x,y,scoring='accuracy', cv = 10).mean()\n",
    "print('cv score :',svc_cv)"
   ]
  },
  {
   "cell_type": "markdown",
   "id": "63980f56",
   "metadata": {},
   "source": [
    "### c)DecisionTreeClassifier"
   ]
  },
  {
   "cell_type": "code",
   "execution_count": 38,
   "id": "6209df9f",
   "metadata": {},
   "outputs": [
    {
     "name": "stdout",
     "output_type": "stream",
     "text": [
      "Training accuracy : 1.0\n",
      "Testing accuracy : 0.9666666666666667\n",
      "              precision    recall  f1-score   support\n",
      "\n",
      "           0       1.00      1.00      1.00        11\n",
      "           1       0.88      1.00      0.93         7\n",
      "           2       1.00      0.92      0.96        12\n",
      "\n",
      "    accuracy                           0.97        30\n",
      "   macro avg       0.96      0.97      0.96        30\n",
      "weighted avg       0.97      0.97      0.97        30\n",
      "\n",
      "[[11  0  0]\n",
      " [ 0  7  0]\n",
      " [ 0  1 11]]\n",
      "accuracy_score : 0.9666666666666667\n"
     ]
    }
   ],
   "source": [
    "from sklearn.tree import DecisionTreeClassifier\n",
    "\n",
    "# creating model\n",
    "model_dt = DecisionTreeClassifier()\n",
    "\n",
    "# feeding the training set into the model\n",
    "model_dt.fit(x_train, y_train)\n",
    "\n",
    "# predicting the results for the test set\n",
    "y_pred = model_dt.predict(x_test)\n",
    "\n",
    "# calculating the training and testing accuracies\n",
    "print(\"Training accuracy :\", model_dt.score(x_train, y_train))\n",
    "print(\"Testing accuracy :\", model_dt.score(x_test, y_test))\n",
    "# classification report\n",
    "print(classification_report(y_test, y_pred))\n",
    "\n",
    "# confusion matrix\n",
    "print(confusion_matrix(y_test, y_pred))\n",
    "print('accuracy_score :' ,accuracy_score(y_test,y_pred))"
   ]
  },
  {
   "cell_type": "markdown",
   "id": "b3be2d4a",
   "metadata": {},
   "source": [
    "#### cross validation score"
   ]
  },
  {
   "cell_type": "code",
   "execution_count": 39,
   "id": "11318dcc",
   "metadata": {},
   "outputs": [
    {
     "data": {
      "text/plain": [
       "0.925"
      ]
     },
     "execution_count": 39,
     "metadata": {},
     "output_type": "execute_result"
    }
   ],
   "source": [
    "#Now lets try to do some evaluation for decision tree model using cross validation.\n",
    "\n",
    "dt_cv = cross_val_score(estimator = model_dt, X = x_train, y = y_train, cv = 10)\n",
    "dt_cv.mean()"
   ]
  },
  {
   "cell_type": "markdown",
   "id": "8c054db2",
   "metadata": {},
   "source": [
    "### d)GaussianNB"
   ]
  },
  {
   "cell_type": "code",
   "execution_count": 40,
   "id": "dace6f66",
   "metadata": {},
   "outputs": [
    {
     "name": "stdout",
     "output_type": "stream",
     "text": [
      "Training accuracy : 0.95\n",
      "Testing accuracy : 0.9666666666666667\n",
      "              precision    recall  f1-score   support\n",
      "\n",
      "           0       1.00      1.00      1.00        11\n",
      "           1       0.88      1.00      0.93         7\n",
      "           2       1.00      0.92      0.96        12\n",
      "\n",
      "    accuracy                           0.97        30\n",
      "   macro avg       0.96      0.97      0.96        30\n",
      "weighted avg       0.97      0.97      0.97        30\n",
      "\n",
      "[[11  0  0]\n",
      " [ 0  7  0]\n",
      " [ 0  1 11]]\n",
      "accuracy_score : 0.9666666666666667\n"
     ]
    }
   ],
   "source": [
    "from sklearn.naive_bayes import GaussianNB\n",
    "# creating model\n",
    "model_gnb = GaussianNB()\n",
    "\n",
    "# feeding the training set into the model\n",
    "model_gnb.fit(x_train, y_train)\n",
    "\n",
    "# predicting the results for the test set\n",
    "y_pred = model_gnb.predict(x_test)\n",
    "\n",
    "# calculating the training and testing accuracies\n",
    "print(\"Training accuracy :\", model_gnb.score(x_train, y_train))\n",
    "print(\"Testing accuracy :\", model_gnb.score(x_test, y_test))\n",
    "# classification report\n",
    "print(classification_report(y_test, y_pred))\n",
    "\n",
    "# confusion matrix\n",
    "print(confusion_matrix(y_test, y_pred))\n",
    "print('accuracy_score :' ,accuracy_score(y_test,y_pred))"
   ]
  },
  {
   "cell_type": "markdown",
   "id": "d80521c3",
   "metadata": {},
   "source": [
    "#### cross validation score"
   ]
  },
  {
   "cell_type": "code",
   "execution_count": 41,
   "id": "7d34706f",
   "metadata": {},
   "outputs": [
    {
     "data": {
      "text/plain": [
       "0.9416666666666667"
      ]
     },
     "execution_count": 41,
     "metadata": {},
     "output_type": "execute_result"
    }
   ],
   "source": [
    "#Now lets try to do some evaluation for GaussianNB model using cross validation.\n",
    "gnb_cv = cross_val_score(estimator = model_gnb, X = x_train, y = y_train, cv = 10)\n",
    "gnb_cv.mean()"
   ]
  },
  {
   "cell_type": "markdown",
   "id": "d7baac07",
   "metadata": {},
   "source": [
    "### e)KNeighborsClassifier"
   ]
  },
  {
   "cell_type": "code",
   "execution_count": 42,
   "id": "f4fbd868",
   "metadata": {},
   "outputs": [
    {
     "name": "stdout",
     "output_type": "stream",
     "text": [
      "Training accuracy : 0.9666666666666667\n",
      "Testing accuracy : 0.9666666666666667\n",
      "              precision    recall  f1-score   support\n",
      "\n",
      "           0       1.00      1.00      1.00        11\n",
      "           1       0.88      1.00      0.93         7\n",
      "           2       1.00      0.92      0.96        12\n",
      "\n",
      "    accuracy                           0.97        30\n",
      "   macro avg       0.96      0.97      0.96        30\n",
      "weighted avg       0.97      0.97      0.97        30\n",
      "\n",
      "[[11  0  0]\n",
      " [ 0  7  0]\n",
      " [ 0  1 11]]\n",
      "accuracy_score : 0.9666666666666667\n"
     ]
    }
   ],
   "source": [
    "from sklearn.neighbors import KNeighborsClassifier\n",
    "# creating model\n",
    "model_KNc = KNeighborsClassifier(n_neighbors=7)\n",
    "\n",
    "# feeding the training set into the model\n",
    "model_KNc.fit(x_train, y_train)\n",
    "\n",
    "# predicting the results for the test set\n",
    "y_pred = model_KNc.predict(x_test)\n",
    "\n",
    "# calculating the training and testing accuracies\n",
    "print(\"Training accuracy :\", model_KNc.score(x_train, y_train))\n",
    "print(\"Testing accuracy :\", model_KNc.score(x_test, y_test))\n",
    "# classification report\n",
    "print(classification_report(y_test, y_pred))\n",
    "\n",
    "# confusion matrix\n",
    "print(confusion_matrix(y_test, y_pred))\n",
    "print('accuracy_score :' ,accuracy_score(y_test,y_pred))"
   ]
  },
  {
   "cell_type": "markdown",
   "id": "4a00e5b1",
   "metadata": {},
   "source": [
    "#### cross validation score"
   ]
  },
  {
   "cell_type": "code",
   "execution_count": 43,
   "id": "b89cdc9b",
   "metadata": {},
   "outputs": [
    {
     "data": {
      "text/plain": [
       "0.9666666666666668"
      ]
     },
     "execution_count": 43,
     "metadata": {},
     "output_type": "execute_result"
    }
   ],
   "source": [
    "knn_cv=cross_val_score(model_KNc,x,y,scoring='accuracy', cv = 10)\n",
    "knn_cv.mean()"
   ]
  },
  {
   "cell_type": "markdown",
   "id": "742aedc2",
   "metadata": {},
   "source": [
    "### e)LogisticRegression"
   ]
  },
  {
   "cell_type": "code",
   "execution_count": 44,
   "id": "4f4c1bac",
   "metadata": {},
   "outputs": [
    {
     "name": "stdout",
     "output_type": "stream",
     "text": [
      "Training accuracy : 0.9333333333333333\n",
      "testing accuracy : 0.9666666666666667\n",
      "              precision    recall  f1-score   support\n",
      "\n",
      "           0       1.00      1.00      1.00        11\n",
      "           1       0.88      1.00      0.93         7\n",
      "           2       1.00      0.92      0.96        12\n",
      "\n",
      "    accuracy                           0.97        30\n",
      "   macro avg       0.96      0.97      0.96        30\n",
      "weighted avg       0.97      0.97      0.97        30\n",
      "\n",
      "[[11  0  0]\n",
      " [ 0  7  0]\n",
      " [ 0  1 11]]\n",
      "accuracy_score : 0.9666666666666667\n"
     ]
    }
   ],
   "source": [
    "# creating the model\n",
    "model_lg=LogisticRegression()\n",
    "# feeding the training set into the model\n",
    "model_lg.fit(x_train,y_train)\n",
    "# predicting the results for the test set\n",
    "y_pred=model_lg.predict(x_test)\n",
    "# calculating the training and testing accuracies\n",
    "print('Training accuracy :',model_lg.score(x_train,y_train))\n",
    "print('testing accuracy :',model_lg.score(x_test,y_test))\n",
    "# classification report\n",
    "print(classification_report(y_test,y_pred))\n",
    "#confusion matrix\n",
    "print(confusion_matrix(y_test,y_pred))\n",
    "print('accuracy_score :' ,accuracy_score(y_test,y_pred))"
   ]
  },
  {
   "cell_type": "markdown",
   "id": "1a1eca4e",
   "metadata": {},
   "source": [
    "#### cross validation score"
   ]
  },
  {
   "cell_type": "code",
   "execution_count": 45,
   "id": "bd8d2bf1",
   "metadata": {},
   "outputs": [
    {
     "name": "stdout",
     "output_type": "stream",
     "text": [
      "cv score : 0.9733333333333333\n"
     ]
    }
   ],
   "source": [
    "from sklearn.model_selection import GridSearchCV, cross_val_score\n",
    "lg_cv=cross_val_score(model_lg,x,y,scoring='accuracy', cv = 3).mean()\n",
    "print('cv score :',lg_cv)"
   ]
  },
  {
   "cell_type": "code",
   "execution_count": 46,
   "id": "cd94d65b",
   "metadata": {},
   "outputs": [
    {
     "name": "stdout",
     "output_type": "stream",
     "text": [
      "MODEL               Accurancy score        C_V Score       Difference\n",
      "LOGISTIC REGG     0.9666666666666667        0.97        -0.007\n",
      "RANDOM FOREST     0.9666666666666667        0.97       0.0\n",
      "SVC               0.9666666666666667        0.97        -0.007\n",
      "DTREE             0.9666666666666667        0.92       0.042\n",
      "KNeighborsclass   0.9666666666666667        0.97        -0.0\n",
      "GaussianNB        0.9666666666666667        0.94       0.025\n"
     ]
    }
   ],
   "source": [
    "print('MODEL',\"             \",'Accurancy score','      ','C_V Score','     ','Difference')\n",
    "print(\"LOGISTIC REGG    \",model_lg.score(x_test, y_test),\"      \",round(lg_cv.mean(),2),\"      \", round(model_lg.score(x_test, y_test)-lg_cv.mean(),3))\n",
    "print(\"RANDOM FOREST    \",model_rfc.score(x_test, y_test),\"      \",round(rfc_cv.mean(),2),\"     \", round(model_rfc.score(x_test, y_test)-rfc_cv.mean(),3))\n",
    "print(\"SVC              \",model_svc.score(x_test, y_test),\"      \",round(svc_cv.mean(),2),\"      \", round(model_svc.score(x_test, y_test)-svc_cv.mean(),3))\n",
    "print(\"DTREE            \",model_dt.score(x_test, y_test),\"      \",round(dt_cv.mean(),2),\"     \", round(model_dt.score(x_test, y_test)-dt_cv.mean(),3))\n",
    "print('KNeighborsclass  ',model_KNc.score(x_test, y_test),\"      \",round(knn_cv.mean(),2),\"      \",round(model_KNc.score(x_test, y_test)-knn_cv.mean(),3)) \n",
    "print('GaussianNB',\"      \",model_gnb.score(x_test, y_test),\"      \",round(gnb_cv.mean(),2),\"     \",round(model_gnb.score(x_test, y_test)-gnb_cv.mean(),3)) "
   ]
  },
  {
   "cell_type": "markdown",
   "id": "3a76ea41",
   "metadata": {},
   "source": [
    "The best model accoding to accuracy score- cross validation score is RandomForestClassifier,KNeighborsClassifier since it is having least difference"
   ]
  },
  {
   "cell_type": "markdown",
   "id": "7670ebd9",
   "metadata": {},
   "source": [
    "# 6.Hyper parameter tuning"
   ]
  },
  {
   "cell_type": "markdown",
   "id": "652593fc",
   "metadata": {},
   "source": [
    "### FINDING BEST random_state"
   ]
  },
  {
   "cell_type": "code",
   "execution_count": 47,
   "id": "252e815c",
   "metadata": {},
   "outputs": [
    {
     "name": "stdout",
     "output_type": "stream",
     "text": [
      "accurancy 0.9536585365853658 random_state 0\n",
      "accurancy 0.9536585365853658 random_state 0\n",
      "accurancy 0.9536585365853658 random_state 1\n",
      "accurancy 0.9536585365853658 random_state 1\n",
      "accurancy 0.962037962037962 random_state 2\n",
      "accurancy 0.962037962037962 random_state 2\n",
      "accurancy 0.9609053497942387 random_state 3\n",
      "accurancy 0.962037962037962 random_state 3\n",
      "accurancy 0.9655797101449275 random_state 4\n",
      "accurancy 0.9655797101449275 random_state 4\n",
      "accurancy 0.9583333333333334 random_state 5\n",
      "accurancy 0.9655797101449275 random_state 5\n",
      "accurancy 0.9227642276422764 random_state 6\n",
      "accurancy 0.9655797101449275 random_state 6\n",
      "accurancy 0.8325991189427313 random_state 7\n",
      "accurancy 0.9655797101449275 random_state 7\n",
      "accurancy 0.8846153846153846 random_state 8\n",
      "accurancy 0.9655797101449275 random_state 8\n",
      "accurancy 1.0 random_state 9\n",
      "accurancy 1.0 random_state 9\n",
      "accurancy 1.0 random_state 10\n",
      "accurancy 1.0 random_state 10\n",
      "accurancy 0.887905604719764 random_state 11\n",
      "accurancy 1.0 random_state 11\n",
      "accurancy 0.9609053497942387 random_state 12\n",
      "accurancy 1.0 random_state 12\n",
      "accurancy 0.9637404580152672 random_state 13\n",
      "accurancy 1.0 random_state 13\n",
      "accurancy 0.956271576524741 random_state 14\n",
      "accurancy 1.0 random_state 14\n",
      "accurancy 1.0 random_state 15\n",
      "accurancy 1.0 random_state 15\n",
      "accurancy 0.8682080924855491 random_state 16\n",
      "accurancy 1.0 random_state 16\n",
      "accurancy 0.9560693641618497 random_state 17\n",
      "accurancy 1.0 random_state 17\n",
      "accurancy 1.0 random_state 18\n",
      "accurancy 1.0 random_state 18\n",
      "accurancy 0.9151785714285714 random_state 19\n",
      "accurancy 1.0 random_state 19\n",
      "accurancy 0.875 random_state 20\n",
      "accurancy 1.0 random_state 20\n",
      "accurancy 0.8682080924855491 random_state 21\n",
      "accurancy 1.0 random_state 21\n",
      "accurancy 0.9192348565356004 random_state 22\n",
      "accurancy 1.0 random_state 22\n",
      "accurancy 1.0 random_state 23\n",
      "accurancy 1.0 random_state 23\n",
      "accurancy 0.9655797101449275 random_state 24\n",
      "accurancy 1.0 random_state 24\n",
      "accurancy 0.9545454545454546 random_state 25\n",
      "accurancy 1.0 random_state 25\n",
      "accurancy 0.9615384615384616 random_state 26\n",
      "accurancy 1.0 random_state 26\n",
      "accurancy 0.91324200913242 random_state 27\n",
      "accurancy 1.0 random_state 27\n",
      "accurancy 0.9129438717067583 random_state 28\n",
      "accurancy 1.0 random_state 28\n",
      "accurancy 0.9125431530494822 random_state 29\n",
      "accurancy 1.0 random_state 29\n",
      "accurancy 0.9252704031465093 random_state 30\n",
      "accurancy 1.0 random_state 30\n",
      "accurancy 0.9545454545454546 random_state 31\n",
      "accurancy 1.0 random_state 31\n",
      "accurancy 1.0 random_state 32\n",
      "accurancy 1.0 random_state 32\n",
      "accurancy 0.8740331491712707 random_state 33\n",
      "accurancy 1.0 random_state 33\n",
      "accurancy 1.0 random_state 34\n",
      "accurancy 1.0 random_state 34\n",
      "accurancy 0.9227642276422765 random_state 35\n",
      "accurancy 1.0 random_state 35\n",
      "accurancy 0.9599578503688093 random_state 36\n",
      "accurancy 1.0 random_state 36\n",
      "accurancy 1.0 random_state 37\n",
      "accurancy 1.0 random_state 37\n",
      "accurancy 0.9615384615384616 random_state 38\n",
      "accurancy 1.0 random_state 38\n",
      "accurancy 0.9599578503688093 random_state 39\n",
      "accurancy 1.0 random_state 39\n",
      "accurancy 1.0 random_state 40\n",
      "accurancy 1.0 random_state 40\n",
      "accurancy 0.8682080924855491 random_state 41\n",
      "accurancy 1.0 random_state 41\n",
      "accurancy 1.0 random_state 42\n",
      "accurancy 1.0 random_state 42\n",
      "accurancy 1.0 random_state 43\n",
      "accurancy 1.0 random_state 43\n",
      "accurancy 0.9615384615384616 random_state 44\n",
      "accurancy 1.0 random_state 44\n",
      "accurancy 0.9309718437783833 random_state 45\n",
      "accurancy 1.0 random_state 45\n",
      "accurancy 0.8207547169811321 random_state 46\n",
      "accurancy 1.0 random_state 46\n",
      "accurancy 0.9666666666666667 random_state 47\n",
      "accurancy 1.0 random_state 47\n",
      "accurancy 0.9151785714285714 random_state 48\n",
      "accurancy 1.0 random_state 48\n",
      "accurancy 0.9227642276422764 random_state 49\n",
      "accurancy 1.0 random_state 49\n",
      "accurancy 0.9564719358533792 random_state 50\n",
      "accurancy 1.0 random_state 50\n",
      "accurancy 0.8767567567567567 random_state 51\n",
      "accurancy 1.0 random_state 51\n",
      "accurancy 0.9578246392896781 random_state 52\n",
      "accurancy 1.0 random_state 52\n",
      "accurancy 0.9086538461538461 random_state 53\n",
      "accurancy 1.0 random_state 53\n",
      "accurancy 0.9151785714285714 random_state 54\n",
      "accurancy 1.0 random_state 54\n",
      "accurancy 0.9615384615384616 random_state 55\n",
      "accurancy 1.0 random_state 55\n",
      "accurancy 0.9258536585365854 random_state 56\n",
      "accurancy 1.0 random_state 56\n",
      "accurancy 1.0 random_state 57\n",
      "accurancy 1.0 random_state 57\n",
      "accurancy 0.9036755386565273 random_state 58\n",
      "accurancy 1.0 random_state 58\n",
      "accurancy 0.9278252611585945 random_state 59\n",
      "accurancy 1.0 random_state 59\n",
      "accurancy 0.9177489177489178 random_state 60\n",
      "accurancy 1.0 random_state 60\n",
      "accurancy 0.9199157007376185 random_state 61\n",
      "accurancy 1.0 random_state 61\n",
      "accurancy 0.8887804878048781 random_state 62\n",
      "accurancy 1.0 random_state 62\n",
      "accurancy 0.910377358490566 random_state 63\n",
      "accurancy 1.0 random_state 63\n",
      "accurancy 0.9129438717067583 random_state 64\n",
      "accurancy 1.0 random_state 64\n",
      "accurancy 0.9615384615384616 random_state 65\n",
      "accurancy 1.0 random_state 65\n",
      "accurancy 1.0 random_state 66\n",
      "accurancy 1.0 random_state 66\n",
      "accurancy 0.9086538461538461 random_state 67\n",
      "accurancy 1.0 random_state 67\n",
      "accurancy 0.9615384615384616 random_state 68\n",
      "accurancy 1.0 random_state 68\n",
      "accurancy 0.9654859218891917 random_state 69\n",
      "accurancy 1.0 random_state 69\n",
      "accurancy 1.0 random_state 70\n",
      "accurancy 1.0 random_state 70\n",
      "accurancy 0.9129438717067583 random_state 71\n",
      "accurancy 1.0 random_state 71\n",
      "accurancy 0.9652333028362305 random_state 72\n",
      "accurancy 1.0 random_state 72\n",
      "accurancy 0.9629268292682926 random_state 73\n",
      "accurancy 1.0 random_state 73\n",
      "accurancy 1.0 random_state 74\n",
      "accurancy 1.0 random_state 74\n",
      "accurancy 0.9583333333333334 random_state 75\n",
      "accurancy 1.0 random_state 75\n",
      "accurancy 0.9588744588744589 random_state 76\n",
      "accurancy 1.0 random_state 76\n",
      "accurancy 0.8444216990788127 random_state 77\n",
      "accurancy 1.0 random_state 77\n",
      "accurancy 0.9086538461538461 random_state 78\n",
      "accurancy 1.0 random_state 78\n",
      "accurancy 0.9583333333333334 random_state 79\n",
      "accurancy 1.0 random_state 79\n",
      "accurancy 0.9041614123581336 random_state 80\n",
      "accurancy 1.0 random_state 80\n",
      "accurancy 0.9578246392896781 random_state 81\n",
      "accurancy 1.0 random_state 81\n",
      "accurancy 0.9652333028362305 random_state 82\n",
      "accurancy 1.0 random_state 82\n",
      "accurancy 0.887905604719764 random_state 83\n",
      "accurancy 1.0 random_state 83\n",
      "accurancy 1.0 random_state 84\n",
      "accurancy 1.0 random_state 84\n",
      "accurancy 0.8924528301886793 random_state 85\n",
      "accurancy 1.0 random_state 85\n",
      "accurancy 1.0 random_state 86\n",
      "accurancy 1.0 random_state 86\n",
      "accurancy 0.9600840336134454 random_state 87\n",
      "accurancy 1.0 random_state 87\n",
      "accurancy 0.9641509433962264 random_state 88\n",
      "accurancy 1.0 random_state 88\n",
      "accurancy 0.9652333028362305 random_state 89\n",
      "accurancy 1.0 random_state 89\n",
      "accurancy 0.9326837909654562 random_state 90\n",
      "accurancy 1.0 random_state 90\n",
      "accurancy 1.0 random_state 91\n",
      "accurancy 1.0 random_state 91\n",
      "accurancy 0.9283018867924528 random_state 92\n",
      "accurancy 1.0 random_state 92\n",
      "accurancy 1.0 random_state 93\n",
      "accurancy 1.0 random_state 93\n",
      "accurancy 0.9560693641618497 random_state 94\n",
      "accurancy 1.0 random_state 94\n",
      "accurancy 0.9589189189189189 random_state 95\n",
      "accurancy 1.0 random_state 95\n",
      "accurancy 0.9588744588744589 random_state 96\n",
      "accurancy 1.0 random_state 96\n",
      "accurancy 0.9192348565356004 random_state 97\n",
      "accurancy 1.0 random_state 97\n",
      "accurancy 0.904642409033877 random_state 98\n",
      "accurancy 1.0 random_state 98\n",
      "accurancy 0.9166666666666666 random_state 99\n",
      "accurancy 1.0 random_state 99\n",
      "Best accurancy is  1.0  on random_state 9\n"
     ]
    }
   ],
   "source": [
    "from sklearn.metrics import r2_score\n",
    "maxAcc=0\n",
    "maxRS=0\n",
    "for i in range(0,100):\n",
    "    x_train,x_test,y_train,y_test=train_test_split(x,y,test_size=.25,random_state=i)\n",
    "    lg=LogisticRegression(fit_intercept=True)\n",
    "    lg.fit(x_train,y_train)\n",
    "    pred=lg.predict(x_test)\n",
    "    acc=r2_score(y_test,pred)\n",
    "    print('accurancy',acc, 'random_state',i)\n",
    "    if acc>maxAcc:\n",
    "        maxAcc=acc\n",
    "        maxRs=i\n",
    "    print('accurancy',maxAcc, 'random_state',i)\n",
    "\n",
    "print('Best accurancy is ',maxAcc, ' on random_state',maxRs)"
   ]
  },
  {
   "cell_type": "code",
   "execution_count": 48,
   "id": "9fa4665e",
   "metadata": {},
   "outputs": [],
   "source": [
    "x_train, x_test, y_train, y_test = train_test_split(x,y,test_size=0.2,random_state=9)"
   ]
  },
  {
   "cell_type": "markdown",
   "id": "c2035a29",
   "metadata": {},
   "source": [
    "### i)RandomForestClassifier"
   ]
  },
  {
   "cell_type": "code",
   "execution_count": 49,
   "id": "23159a68",
   "metadata": {},
   "outputs": [],
   "source": [
    "rfc=RandomForestClassifier()\n",
    "param_grid={\n",
    "    'criterion' : [\"gini\", \"entropy\"],\n",
    "    'n_estimators':[200,1000,50],\n",
    "    'min_samples_split':[2,3,4],\n",
    "     'random_state':[10]              \n",
    "}"
   ]
  },
  {
   "cell_type": "code",
   "execution_count": 50,
   "id": "5559915d",
   "metadata": {},
   "outputs": [
    {
     "name": "stdout",
     "output_type": "stream",
     "text": [
      "Fitting 4 folds for each of 18 candidates, totalling 72 fits\n"
     ]
    },
    {
     "data": {
      "text/plain": [
       "GridSearchCV(cv=4, estimator=RandomForestClassifier(), n_jobs=-1,\n",
       "             param_grid={'criterion': ['gini', 'entropy'],\n",
       "                         'min_samples_split': [2, 3, 4],\n",
       "                         'n_estimators': [200, 1000, 50],\n",
       "                         'random_state': [10]},\n",
       "             scoring='accuracy', verbose=2)"
      ]
     },
     "execution_count": 50,
     "metadata": {},
     "output_type": "execute_result"
    }
   ],
   "source": [
    "rf=GridSearchCV(RandomForestClassifier(),param_grid,cv=4,scoring='accuracy',n_jobs=-1,verbose=2)\n",
    "rf.fit(x_train,y_train)"
   ]
  },
  {
   "cell_type": "code",
   "execution_count": 51,
   "id": "bacbbc34",
   "metadata": {},
   "outputs": [
    {
     "data": {
      "text/plain": [
       "{'criterion': 'gini',\n",
       " 'min_samples_split': 2,\n",
       " 'n_estimators': 50,\n",
       " 'random_state': 10}"
      ]
     },
     "execution_count": 51,
     "metadata": {},
     "output_type": "execute_result"
    }
   ],
   "source": [
    "rf.best_params_"
   ]
  },
  {
   "cell_type": "code",
   "execution_count": 52,
   "id": "a09851ba",
   "metadata": {},
   "outputs": [
    {
     "name": "stdout",
     "output_type": "stream",
     "text": [
      "              precision    recall  f1-score   support\n",
      "\n",
      "           0       1.00      1.00      1.00        13\n",
      "           1       1.00      1.00      1.00         9\n",
      "           2       1.00      1.00      1.00         8\n",
      "\n",
      "    accuracy                           1.00        30\n",
      "   macro avg       1.00      1.00      1.00        30\n",
      "weighted avg       1.00      1.00      1.00        30\n",
      "\n",
      "1.0\n"
     ]
    }
   ],
   "source": [
    "clf= RandomForestClassifier(criterion='gini',min_samples_split=2,n_estimators=50,random_state=10).fit(x_train, y_train)\n",
    "fianlRFC= clf.predict(x_test)\n",
    "randomforest_accu=accuracy_score(y_test,fianlRFC)\n",
    "randomforest_accu\n",
    "#print(confusion_matrix(y_test, predRFC))\n",
    "print(classification_report(y_test, fianlRFC))\n",
    "print(randomforest_accu)"
   ]
  },
  {
   "cell_type": "code",
   "execution_count": 53,
   "id": "106e27e2",
   "metadata": {},
   "outputs": [
    {
     "data": {
      "text/plain": [
       "0.9667496443812233"
      ]
     },
     "execution_count": 53,
     "metadata": {},
     "output_type": "execute_result"
    }
   ],
   "source": [
    "randomforest_cv= cross_val_score(clf,x,y,scoring='accuracy', cv = 4).mean()\n",
    "randomforest_cv"
   ]
  },
  {
   "cell_type": "markdown",
   "id": "238718f6",
   "metadata": {},
   "source": [
    "### ii)KNeighborsClassifier"
   ]
  },
  {
   "cell_type": "code",
   "execution_count": 54,
   "id": "ff2e2bf6",
   "metadata": {},
   "outputs": [
    {
     "name": "stdout",
     "output_type": "stream",
     "text": [
      "Best Hyper Parameters:\n",
      " {'algorithm': 'auto', 'leaf_size': 1, 'n_jobs': -1, 'n_neighbors': 9, 'weights': 'distance'}\n",
      "Accuracy: 1.0\n",
      "Confusion Metrix:\n",
      " [[13  0  0]\n",
      " [ 0  9  0]\n",
      " [ 0  0  8]]\n"
     ]
    }
   ],
   "source": [
    "#With Hyper Parameters Tuning\n",
    "#2-4,kNearestNeighbors\n",
    "#importing modules\n",
    "from sklearn.model_selection import GridSearchCV\n",
    "from sklearn.neighbors import KNeighborsClassifier\n",
    "#making the instance\n",
    "model = KNeighborsClassifier(n_jobs=-1)\n",
    "#Hyper Parameters Set\n",
    "params = {'n_neighbors':[5,6,7,8,9,10],\n",
    "          'leaf_size':[1,2,3,5],\n",
    "          'weights':['uniform', 'distance'],\n",
    "          'algorithm':['auto', 'ball_tree','kd_tree','brute'],\n",
    "          'n_jobs':[-1]}\n",
    "#Making models with hyper parameters sets\n",
    "model1 = GridSearchCV(model, param_grid=params, n_jobs=1)\n",
    "#Learning\n",
    "model1.fit(x_train,y_train)\n",
    "#The best hyper parameters set\n",
    "print(\"Best Hyper Parameters:\\n\",model1.best_params_)\n",
    "#Prediction\n",
    "prediction=model1.predict(x_test)\n",
    "#importing the metrics module\n",
    "from sklearn import metrics\n",
    "#evaluation(Accuracy)\n",
    "print(\"Accuracy:\",metrics.accuracy_score(prediction,y_test))\n",
    "#evaluation(Confusion Metrix)\n",
    "print(\"Confusion Metrix:\\n\",metrics.confusion_matrix(prediction,y_test))\n",
    "knn_final=prediction\n",
    "knn_finalmod=model1"
   ]
  },
  {
   "cell_type": "code",
   "execution_count": 55,
   "id": "1fb5cfc4",
   "metadata": {},
   "outputs": [
    {
     "data": {
      "text/plain": [
       "0.9666666666666668"
      ]
     },
     "execution_count": 55,
     "metadata": {},
     "output_type": "execute_result"
    }
   ],
   "source": [
    "knn_cv=cross_val_score(model1,x,y,scoring='accuracy', cv = 10).mean()\n",
    "knn_cv"
   ]
  },
  {
   "cell_type": "markdown",
   "id": "727ee7cd",
   "metadata": {},
   "source": [
    "The best model is RandomForestClassifier() with 100% accuracy"
   ]
  },
  {
   "cell_type": "markdown",
   "id": "35de5b25",
   "metadata": {},
   "source": [
    "# 7)Evaluation"
   ]
  },
  {
   "cell_type": "markdown",
   "id": "4ca30186",
   "metadata": {},
   "source": [
    "### AUC ROC CURVE"
   ]
  },
  {
   "cell_type": "code",
   "execution_count": 56,
   "id": "97a3c26f",
   "metadata": {},
   "outputs": [],
   "source": [
    "from sklearn.datasets import make_circles\n",
    "from sklearn.metrics import accuracy_score\n",
    "from sklearn.metrics import precision_score\n",
    "from sklearn.metrics import recall_score\n",
    "from sklearn.metrics import f1_score\n",
    "from sklearn.metrics import cohen_kappa_score\n",
    "from sklearn.metrics import roc_auc_score\n",
    "from sklearn.metrics import confusion_matrix"
   ]
  },
  {
   "cell_type": "code",
   "execution_count": 57,
   "id": "83ea1252",
   "metadata": {},
   "outputs": [],
   "source": [
    "# train models\n",
    "from sklearn.linear_model import LogisticRegression\n",
    "from sklearn.ensemble import RandomForestClassifier\n",
    "\n",
    "\n",
    "model1 = RandomForestClassifier()\n",
    "\n",
    "\n",
    "# fit model\n",
    "model1.fit(x_train, y_train)\n",
    "\n",
    "\n",
    "# predict probabilities\n",
    "pred_prob1 = model1.predict_proba(x_test)"
   ]
  },
  {
   "cell_type": "code",
   "execution_count": 58,
   "id": "20f9d1ef",
   "metadata": {},
   "outputs": [],
   "source": [
    "from sklearn.metrics import roc_curve\n",
    "\n",
    "# roc curve for models\n",
    "fpr1, tpr1, thresh1 = roc_curve(y_test, pred_prob1[:,1], pos_label=1)\n",
    "\n",
    "\n",
    "# roc curve for tpr = fpr \n",
    "random_probs = [0 for i in range(len(y_test))]\n",
    "p_fpr, p_tpr, _ = roc_curve(y_test, random_probs, pos_label=1)"
   ]
  },
  {
   "cell_type": "code",
   "execution_count": 59,
   "id": "d4c9a0b8",
   "metadata": {},
   "outputs": [
    {
     "name": "stdout",
     "output_type": "stream",
     "text": [
      "1.0\n"
     ]
    }
   ],
   "source": [
    "from sklearn.metrics import roc_auc_score\n",
    "clf = LogisticRegression(solver=\"liblinear\").fit(x_train, y_train)\n",
    "preds = clf.predict_proba(x_test)\n",
    "roc_auc = roc_auc_score(y_test,preds, multi_class='ovr')\n",
    "print(roc_auc)\n",
    "\n"
   ]
  },
  {
   "cell_type": "code",
   "execution_count": 60,
   "id": "bfe4eb2f",
   "metadata": {},
   "outputs": [
    {
     "data": {
      "image/png": "[encoded data removed]",
      "text/plain": [
       "<Figure size 576x396 with 1 Axes>"
      ]
     },
     "metadata": {},
     "output_type": "display_data"
    }
   ],
   "source": [
    "import matplotlib.pyplot as plt\n",
    "plt.style.use('seaborn')\n",
    "\n",
    "# plot roc curves\n",
    "plt.plot(fpr1, tpr1, linestyle='--',color='orange', label='RandomForestClassifier')\n",
    "plt.plot(p_fpr, p_tpr, linestyle='--', color='blue')\n",
    "# title\n",
    "plt.title('ROC curve')\n",
    "# x label\n",
    "plt.xlabel('False Positive Rate')\n",
    "# y label\n",
    "plt.ylabel('True Positive rate')\n",
    "\n",
    "plt.legend(loc='best')\n",
    "plt.savefig('ROC',dpi=300)\n",
    "plt.show();"
   ]
  },
  {
   "cell_type": "markdown",
   "id": "3d55885d",
   "metadata": {},
   "source": [
    "The accuracy of the model is 100.0 %"
   ]
  },
  {
   "cell_type": "markdown",
   "id": "b065a21a",
   "metadata": {},
   "source": [
    "### Test set prediction"
   ]
  },
  {
   "cell_type": "code",
   "execution_count": 61,
   "id": "6b90133d",
   "metadata": {},
   "outputs": [
    {
     "data": {
      "text/plain": [
       "array([2])"
      ]
     },
     "execution_count": 61,
     "metadata": {},
     "output_type": "execute_result"
    }
   ],
   "source": [
    "finRFC= clf.predict([[6.7,3,5.2,2.3]]) # 0-Iris-setosa, 1-Iris-versicolor, 2-Iris-virginica\n",
    "\n",
    "finRFC"
   ]
  },
  {
   "cell_type": "code",
   "execution_count": 62,
   "id": "e4d81e1f",
   "metadata": {},
   "outputs": [
    {
     "data": {
      "text/plain": [
       "array([0])"
      ]
     },
     "execution_count": 62,
     "metadata": {},
     "output_type": "execute_result"
    }
   ],
   "source": [
    "finRFC= clf.predict([[5,3.6,1.4,0.3]]) # 0-Iris-setosa, 1-Iris-versicolor, 2-Iris-virginica\n",
    "\n",
    "finRFC"
   ]
  },
  {
   "cell_type": "code",
   "execution_count": 63,
   "id": "966fa499",
   "metadata": {},
   "outputs": [
    {
     "data": {
      "text/plain": [
       "array([1])"
      ]
     },
     "execution_count": 63,
     "metadata": {},
     "output_type": "execute_result"
    }
   ],
   "source": [
    "finRFC= clf.predict([[6.7,3.1,4.4,1.4]]) # 0-Iris-setosa, 1-Iris-versicolor, 2-Iris-virginica\n",
    "\n",
    "finRFC"
   ]
  },
  {
   "cell_type": "code",
   "execution_count": 64,
   "id": "5e3fdc8d",
   "metadata": {},
   "outputs": [
    {
     "data": {
      "text/plain": [
       "sepal_length    6.7\n",
       "sepal_width     3.1\n",
       "petal_length    4.4\n",
       "petal_width     1.4\n",
       "species         1.0\n",
       "Name: 65, dtype: float64"
      ]
     },
     "execution_count": 64,
     "metadata": {},
     "output_type": "execute_result"
    }
   ],
   "source": [
    "df.iloc[65]"
   ]
  },
  {
   "cell_type": "markdown",
   "id": "fbd3ba48",
   "metadata": {},
   "source": [
    "# 8.saving the model"
   ]
  },
  {
   "cell_type": "code",
   "execution_count": 65,
   "id": "9c7259b7",
   "metadata": {},
   "outputs": [
    {
     "data": {
      "text/plain": [
       "['final_model.pkl']"
      ]
     },
     "execution_count": 65,
     "metadata": {},
     "output_type": "execute_result"
    }
   ],
   "source": [
    "import joblib\n",
    "joblib.dump(clf,\"final_model.pkl\")"
   ]
  }
 ],
 "metadata": {
  "kernelspec": {
   "display_name": "Python 3",
   "language": "python",
   "name": "python3"
  },
  "language_info": {
   "codemirror_mode": {
    "name": "ipython",
    "version": 3
   },
   "file_extension": ".py",
   "mimetype": "text/x-python",
   "name": "python",
   "nbconvert_exporter": "python",
   "pygments_lexer": "ipython3",
   "version": "3.8.8"
  }
 },
 "nbformat": 4,
 "nbformat_minor": 5
}
